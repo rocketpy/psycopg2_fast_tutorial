{
 "cells": [
  {
   "cell_type": "code",
   "execution_count": null,
   "metadata": {},
   "outputs": [],
   "source": [
    "import psycopg2\n",
    "# run server postgresql  !!!"
   ]
  },
  {
   "cell_type": "code",
   "execution_count": null,
   "metadata": {},
   "outputs": [],
   "source": [
    "# connect to db using psycopg\n",
    "\n",
    "conn = psycopg2.connect(\"dbname=name, user=postgres, password=password, host=localhost\")\n",
    "#  conn = psycopg2.connect(database=\"test\", user=\"postgres\", password=\"secret\", host=\"localhost\")\n",
    "\n",
    "# activate cursor\n",
    "cur = conn.cursor()\n",
    "\n",
    "# select table and display\n",
    "cur.execute(\"SELECT date, city_name from cities\")\n",
    "rows = cur.fetchall()\n",
    "# rows"
   ]
  },
  {
   "cell_type": "code",
   "execution_count": null,
   "metadata": {},
   "outputs": [],
   "source": [
    "# insert data\n",
    "cur.execute(\"INSERT INTO cities (date , city_name) VALUES (\"05/05/2020\", Kyiv)\")\n",
    "conn.commit()"
   ]
  },
  {
   "cell_type": "code",
   "execution_count": null,
   "metadata": {},
   "outputs": [],
   "source": [
    "# display data and checking\n",
    "cur.execute(\"SELECT date, city_name from cities\")\n",
    "rows = cur.fetchall()\n",
    "# rows"
   ]
  },
  {
   "cell_type": "code",
   "execution_count": null,
   "metadata": {},
   "outputs": [],
   "source": [
    "# close connection\n",
    "cur.close()\n",
    "conn.close()"
   ]
  }
 ],
 "metadata": {
  "kernelspec": {
   "display_name": "Python 3",
   "language": "python",
   "name": "python3"
  },
  "language_info": {
   "codemirror_mode": {
    "name": "ipython",
    "version": 3
   },
   "file_extension": ".py",
   "mimetype": "text/x-python",
   "name": "python",
   "nbconvert_exporter": "python",
   "pygments_lexer": "ipython3",
   "version": "3.6.2"
  }
 },
 "nbformat": 4,
 "nbformat_minor": 2
}
